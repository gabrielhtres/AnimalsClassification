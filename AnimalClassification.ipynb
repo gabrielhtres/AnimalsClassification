{
 "cells": [
  {
   "cell_type": "code",
   "execution_count": 8,
   "metadata": {},
   "outputs": [],
   "source": [
    "from keras.preprocessing import image\n",
    "from keras.applications.inception_v3 import InceptionV3, preprocess_input\n",
    "from keras.models import Model, Sequential, save_model, load_model\n",
    "from keras.layers import Dense, GlobalAveragePooling2D, Flatten, Dropout\n",
    "from keras.preprocessing.image import ImageDataGenerator\n",
    "from keras.optimizers import Adam\n",
    "import numpy as np\n",
    "from sklearn.metrics import classification_report\n",
    "from keras.utils import to_categorical"
   ]
  },
  {
   "cell_type": "code",
   "execution_count": 2,
   "metadata": {},
   "outputs": [
    {
     "name": "stdout",
     "output_type": "stream",
     "text": [
      "Found 18325 images belonging to 10 classes.\n",
      "Found 7854 images belonging to 10 classes.\n"
     ]
    }
   ],
   "source": [
    "train_dataset = 'train/'\n",
    "test_dataset = 'test/'\n",
    "\n",
    "# Configuração do gerador de dados para pré-processamento e aumento de dados\n",
    "datagen = ImageDataGenerator(\n",
    "    rescale=1./255,         # Normaliza os valores dos pixels para o intervalo [0, 1]\n",
    "    #shear_range=0.2,        # Aplica corte aleatório\n",
    "    #zoom_range=0.2,         # Aplica zoom aleatório\n",
    "    #horizontal_flip=True,   # Inverte aleatoriamente as imagens horizontalmente\n",
    ")\n",
    "\n",
    "# Carrega e pré-processa as imagens de treinamento\n",
    "train_generator = datagen.flow_from_directory(\n",
    "    train_dataset,\n",
    "    target_size=(224, 224),  # Tamanho das imagens esperado pela InceptionV3\n",
    "    batch_size=32,\n",
    "    class_mode='categorical', # 'categorical' se for classificação com mais de duas classes\n",
    "    #subset='training'        # Especifica se é para conjunto de treinamento\n",
    ")\n",
    "\n",
    "# Carrega e pré-processa as imagens de validação\n",
    "test_generator = datagen.flow_from_directory(\n",
    "    test_dataset,\n",
    "    target_size=(224, 224),\n",
    "    batch_size=32,\n",
    "    class_mode='categorical',\n",
    "    #subset='validation'      # Especifica se é para conjunto de validação\n",
    ")"
   ]
  },
  {
   "cell_type": "code",
   "execution_count": 3,
   "metadata": {},
   "outputs": [
    {
     "name": "stdout",
     "output_type": "stream",
     "text": [
      "Epoch 1/5\n",
      "573/573 [==============================] - 2224s 4s/step - loss: 0.4060 - accuracy: 0.8843 - val_loss: 0.2150 - val_accuracy: 0.9402\n",
      "Epoch 2/5\n",
      "573/573 [==============================] - 2203s 4s/step - loss: 0.1851 - accuracy: 0.9507 - val_loss: 0.1944 - val_accuracy: 0.9450\n",
      "Epoch 3/5\n",
      "573/573 [==============================] - 2192s 4s/step - loss: 0.1224 - accuracy: 0.9652 - val_loss: 0.2404 - val_accuracy: 0.9391\n",
      "Epoch 4/5\n",
      "573/573 [==============================] - 2304s 4s/step - loss: 0.1467 - accuracy: 0.9646 - val_loss: 0.1979 - val_accuracy: 0.9491\n",
      "Epoch 5/5\n",
      "573/573 [==============================] - 2190s 4s/step - loss: 0.0639 - accuracy: 0.9819 - val_loss: 0.2247 - val_accuracy: 0.9487\n"
     ]
    }
   ],
   "source": [
    "model = Sequential()\n",
    "\n",
    "model.add(\n",
    "    InceptionV3(weights='imagenet', input_shape=(224, 224, 3), include_top=False)\n",
    ")\n",
    "model.add(Flatten())\n",
    "model.add(Dense(256, activation='relu'))\n",
    "model.add(Dropout(0.5))\n",
    "model.add(Dense(10, activation='softmax'))\n",
    "\n",
    "# Cria um novo modelo com as camadas personalizadas\n",
    "model.compile(optimizer=Adam(learning_rate=1e-4), loss='categorical_crossentropy', metrics=['accuracy'])\n",
    "\n",
    "# y_train_one_hot = to_categorical(train_generator.labels, num_classes=10)\n",
    "\n",
    "# Substitua X_train e y_train pelos seus dados de treinamento e rótulos\n",
    "history = model.fit(train_generator, epochs=5, batch_size=32, validation_data=test_generator)"
   ]
  },
  {
   "cell_type": "code",
   "execution_count": 9,
   "metadata": {},
   "outputs": [
    {
     "name": "stderr",
     "output_type": "stream",
     "text": [
      "c:\\Users\\gabri\\AppData\\Local\\Programs\\Python\\Python311\\Lib\\site-packages\\keras\\src\\engine\\training.py:3000: UserWarning: You are saving your model as an HDF5 file via `model.save()`. This file format is considered legacy. We recommend using instead the native Keras format, e.g. `model.save('my_model.keras')`.\n",
      "  saving_api.save_model(\n"
     ]
    }
   ],
   "source": [
    "model.save('modelo.h5')"
   ]
  },
  {
   "cell_type": "code",
   "execution_count": 10,
   "metadata": {},
   "outputs": [],
   "source": [
    "loaded_model = load_model('modelo.h5')"
   ]
  },
  {
   "cell_type": "code",
   "execution_count": 11,
   "metadata": {},
   "outputs": [
    {
     "name": "stdout",
     "output_type": "stream",
     "text": [
      "246/246 [==============================] - 137s 555ms/step\n"
     ]
    }
   ],
   "source": [
    "predictions = model.predict(test_generator)"
   ]
  },
  {
   "cell_type": "code",
   "execution_count": 5,
   "metadata": {},
   "outputs": [
    {
     "name": "stdout",
     "output_type": "stream",
     "text": [
      "246/246 [==============================] - 134s 544ms/step\n"
     ]
    },
    {
     "ename": "AttributeError",
     "evalue": "'numpy.ndarray' object has no attribute 'head'",
     "output_type": "error",
     "traceback": [
      "\u001b[1;31m---------------------------------------------------------------------------\u001b[0m",
      "\u001b[1;31mAttributeError\u001b[0m                            Traceback (most recent call last)",
      "\u001b[1;32mc:\\AnimalClassification\\AnimalClassification.ipynb Cell 4\u001b[0m line \u001b[0;36m5\n\u001b[0;32m      <a href='vscode-notebook-cell:/c%3A/AnimalClassification/AnimalClassification.ipynb#W3sZmlsZQ%3D%3D?line=2'>3</a>\u001b[0m predictions \u001b[39m=\u001b[39m model\u001b[39m.\u001b[39mpredict(test_generator)\n\u001b[0;32m      <a href='vscode-notebook-cell:/c%3A/AnimalClassification/AnimalClassification.ipynb#W3sZmlsZQ%3D%3D?line=3'>4</a>\u001b[0m y_pred \u001b[39m=\u001b[39m np\u001b[39m.\u001b[39mround(predictions)\u001b[39m.\u001b[39mastype(\u001b[39mint\u001b[39m)\n\u001b[1;32m----> <a href='vscode-notebook-cell:/c%3A/AnimalClassification/AnimalClassification.ipynb#W3sZmlsZQ%3D%3D?line=4'>5</a>\u001b[0m y_pred\u001b[39m.\u001b[39;49mhead()\n\u001b[0;32m      <a href='vscode-notebook-cell:/c%3A/AnimalClassification/AnimalClassification.ipynb#W3sZmlsZQ%3D%3D?line=5'>6</a>\u001b[0m y_true \u001b[39m=\u001b[39m test_generator\u001b[39m.\u001b[39mlabels\n\u001b[0;32m      <a href='vscode-notebook-cell:/c%3A/AnimalClassification/AnimalClassification.ipynb#W3sZmlsZQ%3D%3D?line=6'>7</a>\u001b[0m report \u001b[39m=\u001b[39m classification_report(y_true, y_pred, target_names\u001b[39m=\u001b[39mtarget_names)\n",
      "\u001b[1;31mAttributeError\u001b[0m: 'numpy.ndarray' object has no attribute 'head'"
     ]
    }
   ],
   "source": [
    "target_names = ['Aranha', 'Borboleta', 'Cachorro', 'Cavalo', 'Elefante', 'Esquilo', 'Galinha', 'Gato', 'Ovelha', 'Vaca']\n",
    "test_generator.reset()\n",
    "predictions = model.predict(test_generator)\n",
    "y_pred = np.round(predictions).astype(int)\n",
    "y_pred.head()\n",
    "y_true = test_generator.labels\n",
    "report = classification_report(y_true, y_pred, target_names=target_names)\n",
    "print(report)"
   ]
  }
 ],
 "metadata": {
  "kernelspec": {
   "display_name": "Python 3",
   "language": "python",
   "name": "python3"
  },
  "language_info": {
   "codemirror_mode": {
    "name": "ipython",
    "version": 3
   },
   "file_extension": ".py",
   "mimetype": "text/x-python",
   "name": "python",
   "nbconvert_exporter": "python",
   "pygments_lexer": "ipython3",
   "version": "3.11.2"
  }
 },
 "nbformat": 4,
 "nbformat_minor": 2
}
